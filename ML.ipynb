{
 "cells": [
  {
   "cell_type": "markdown",
   "id": "eeed1970",
   "metadata": {},
   "source": [
    "### Phase 4 -  Machine Learning"
   ]
  },
  {
   "cell_type": "markdown",
   "id": "f5ae4af6",
   "metadata": {},
   "source": [
    "    In order to analyse the Machine Learning aspects of datasets dublin_dataset.csv and basel_dataset.csv, the study implemented specific procedures. The researcher conducted a thorough exploration to understand the Machine Learning characteristics of the mentioned datasets in the context of the research tasks:"
   ]
  },
  {
   "cell_type": "code",
   "execution_count": 1,
   "id": "4f38fba1",
   "metadata": {},
   "outputs": [],
   "source": [
    "import pandas as pd\n",
    "import matplotlib.pyplot as plt\n",
    "import seaborn as sns"
   ]
  },
  {
   "cell_type": "code",
   "execution_count": 2,
   "id": "fca506c6",
   "metadata": {},
   "outputs": [],
   "source": [
    "dublin_df=pd.read_csv(\"C:/Users/bruno/Downloads/dublin_dataset.csv\", delimiter=\";\")\n",
    "basel_df=pd.read_csv(\"C:/Users/bruno/Downloads/basel_dataset.csv\", delimiter=\";\")"
   ]
  },
  {
   "cell_type": "code",
   "execution_count": 3,
   "id": "744b1a5e",
   "metadata": {},
   "outputs": [
    {
     "data": {
      "text/html": [
       "<div>\n",
       "<style scoped>\n",
       "    .dataframe tbody tr th:only-of-type {\n",
       "        vertical-align: middle;\n",
       "    }\n",
       "\n",
       "    .dataframe tbody tr th {\n",
       "        vertical-align: top;\n",
       "    }\n",
       "\n",
       "    .dataframe thead th {\n",
       "        text-align: right;\n",
       "    }\n",
       "</style>\n",
       "<table border=\"1\" class=\"dataframe\">\n",
       "  <thead>\n",
       "    <tr style=\"text-align: right;\">\n",
       "      <th></th>\n",
       "      <th>Location,Year,Total Passengers</th>\n",
       "    </tr>\n",
       "  </thead>\n",
       "  <tbody>\n",
       "    <tr>\n",
       "      <th>0</th>\n",
       "      <td>Dublin,2019,274139</td>\n",
       "    </tr>\n",
       "    <tr>\n",
       "      <th>1</th>\n",
       "      <td>Dublin,2019,275394</td>\n",
       "    </tr>\n",
       "    <tr>\n",
       "      <th>2</th>\n",
       "      <td>Dublin,2019,408199</td>\n",
       "    </tr>\n",
       "    <tr>\n",
       "      <th>3</th>\n",
       "      <td>Dublin,2019,430823</td>\n",
       "    </tr>\n",
       "  </tbody>\n",
       "</table>\n",
       "</div>"
      ],
      "text/plain": [
       "  Location,Year,Total Passengers\n",
       "0             Dublin,2019,274139\n",
       "1             Dublin,2019,275394\n",
       "2             Dublin,2019,408199\n",
       "3             Dublin,2019,430823"
      ]
     },
     "execution_count": 3,
     "metadata": {},
     "output_type": "execute_result"
    }
   ],
   "source": [
    "dublin_df.head(4)"
   ]
  },
  {
   "cell_type": "code",
   "execution_count": 4,
   "id": "fb4be15d",
   "metadata": {},
   "outputs": [
    {
     "data": {
      "text/html": [
       "<div>\n",
       "<style scoped>\n",
       "    .dataframe tbody tr th:only-of-type {\n",
       "        vertical-align: middle;\n",
       "    }\n",
       "\n",
       "    .dataframe tbody tr th {\n",
       "        vertical-align: top;\n",
       "    }\n",
       "\n",
       "    .dataframe thead th {\n",
       "        text-align: right;\n",
       "    }\n",
       "</style>\n",
       "<table border=\"1\" class=\"dataframe\">\n",
       "  <thead>\n",
       "    <tr style=\"text-align: right;\">\n",
       "      <th></th>\n",
       "      <th>Location,Year,Total Passengers</th>\n",
       "    </tr>\n",
       "  </thead>\n",
       "  <tbody>\n",
       "    <tr>\n",
       "      <th>0</th>\n",
       "      <td>Basel,2020,2479000</td>\n",
       "    </tr>\n",
       "    <tr>\n",
       "      <th>1</th>\n",
       "      <td>Basel,2020,822000</td>\n",
       "    </tr>\n",
       "    <tr>\n",
       "      <th>2</th>\n",
       "      <td>Basel,2020,613000</td>\n",
       "    </tr>\n",
       "    <tr>\n",
       "      <th>3</th>\n",
       "      <td>Basel,2020,780000</td>\n",
       "    </tr>\n",
       "  </tbody>\n",
       "</table>\n",
       "</div>"
      ],
      "text/plain": [
       "  Location,Year,Total Passengers\n",
       "0             Basel,2020,2479000\n",
       "1              Basel,2020,822000\n",
       "2              Basel,2020,613000\n",
       "3              Basel,2020,780000"
      ]
     },
     "execution_count": 4,
     "metadata": {},
     "output_type": "execute_result"
    }
   ],
   "source": [
    "basel_df.head(4)"
   ]
  },
  {
   "cell_type": "code",
   "execution_count": 5,
   "id": "4090a16d",
   "metadata": {},
   "outputs": [
    {
     "name": "stdout",
     "output_type": "stream",
     "text": [
      "Column Names: Index(['Location', 'Year', 'Total Passengers'], dtype='object')\n"
     ]
    }
   ],
   "source": [
    "# Assuming your CSV file is named 'your_data.csv'\n",
    "dublin_df = pd.read_csv('dublin_dataset.csv')  # Adjust the file name\n",
    "\n",
    "# Now check the column names\n",
    "print(\"Column Names:\", dublin_df.columns)\n"
   ]
  },
  {
   "cell_type": "code",
   "execution_count": 6,
   "id": "e678388f",
   "metadata": {},
   "outputs": [
    {
     "name": "stdout",
     "output_type": "stream",
     "text": [
      "Column Names: Index(['Location', 'Year', 'Total Passengers'], dtype='object')\n"
     ]
    }
   ],
   "source": [
    "# Assuming your CSV file is named 'your_data.csv'\n",
    "basel_df = pd.read_csv('basel_dataset.csv')  # Adjust the file name\n",
    "\n",
    "# Now check the column names\n",
    "print(\"Column Names:\", basel_df.columns)\n"
   ]
  },
  {
   "cell_type": "code",
   "execution_count": 7,
   "id": "e766a38e",
   "metadata": {},
   "outputs": [
    {
     "data": {
      "text/html": [
       "<div>\n",
       "<style scoped>\n",
       "    .dataframe tbody tr th:only-of-type {\n",
       "        vertical-align: middle;\n",
       "    }\n",
       "\n",
       "    .dataframe tbody tr th {\n",
       "        vertical-align: top;\n",
       "    }\n",
       "\n",
       "    .dataframe thead th {\n",
       "        text-align: right;\n",
       "    }\n",
       "</style>\n",
       "<table border=\"1\" class=\"dataframe\">\n",
       "  <thead>\n",
       "    <tr style=\"text-align: right;\">\n",
       "      <th></th>\n",
       "      <th>Location</th>\n",
       "      <th>Year</th>\n",
       "      <th>Total Passengers</th>\n",
       "    </tr>\n",
       "  </thead>\n",
       "  <tbody>\n",
       "    <tr>\n",
       "      <th>0</th>\n",
       "      <td>Dublin</td>\n",
       "      <td>2019</td>\n",
       "      <td>274139</td>\n",
       "    </tr>\n",
       "    <tr>\n",
       "      <th>1</th>\n",
       "      <td>Dublin</td>\n",
       "      <td>2019</td>\n",
       "      <td>275394</td>\n",
       "    </tr>\n",
       "    <tr>\n",
       "      <th>2</th>\n",
       "      <td>Dublin</td>\n",
       "      <td>2019</td>\n",
       "      <td>408199</td>\n",
       "    </tr>\n",
       "  </tbody>\n",
       "</table>\n",
       "</div>"
      ],
      "text/plain": [
       "  Location  Year  Total Passengers\n",
       "0   Dublin  2019            274139\n",
       "1   Dublin  2019            275394\n",
       "2   Dublin  2019            408199"
      ]
     },
     "execution_count": 7,
     "metadata": {},
     "output_type": "execute_result"
    }
   ],
   "source": [
    "dublin_df.head(3)"
   ]
  },
  {
   "cell_type": "code",
   "execution_count": 8,
   "id": "523a33f9",
   "metadata": {},
   "outputs": [
    {
     "data": {
      "text/html": [
       "<div>\n",
       "<style scoped>\n",
       "    .dataframe tbody tr th:only-of-type {\n",
       "        vertical-align: middle;\n",
       "    }\n",
       "\n",
       "    .dataframe tbody tr th {\n",
       "        vertical-align: top;\n",
       "    }\n",
       "\n",
       "    .dataframe thead th {\n",
       "        text-align: right;\n",
       "    }\n",
       "</style>\n",
       "<table border=\"1\" class=\"dataframe\">\n",
       "  <thead>\n",
       "    <tr style=\"text-align: right;\">\n",
       "      <th></th>\n",
       "      <th>Location</th>\n",
       "      <th>Year</th>\n",
       "      <th>Total Passengers</th>\n",
       "    </tr>\n",
       "  </thead>\n",
       "  <tbody>\n",
       "    <tr>\n",
       "      <th>0</th>\n",
       "      <td>Basel</td>\n",
       "      <td>2020</td>\n",
       "      <td>2479000</td>\n",
       "    </tr>\n",
       "    <tr>\n",
       "      <th>1</th>\n",
       "      <td>Basel</td>\n",
       "      <td>2020</td>\n",
       "      <td>822000</td>\n",
       "    </tr>\n",
       "    <tr>\n",
       "      <th>2</th>\n",
       "      <td>Basel</td>\n",
       "      <td>2020</td>\n",
       "      <td>613000</td>\n",
       "    </tr>\n",
       "  </tbody>\n",
       "</table>\n",
       "</div>"
      ],
      "text/plain": [
       "  Location  Year  Total Passengers\n",
       "0    Basel  2020           2479000\n",
       "1    Basel  2020            822000\n",
       "2    Basel  2020            613000"
      ]
     },
     "execution_count": 8,
     "metadata": {},
     "output_type": "execute_result"
    }
   ],
   "source": [
    "basel_df.head(3)"
   ]
  },
  {
   "cell_type": "code",
   "execution_count": 9,
   "id": "052a5589",
   "metadata": {},
   "outputs": [
    {
     "name": "stdout",
     "output_type": "stream",
     "text": [
      "<class 'pandas.core.frame.DataFrame'>\n",
      "RangeIndex: 614 entries, 0 to 613\n",
      "Data columns (total 3 columns):\n",
      " #   Column            Non-Null Count  Dtype \n",
      "---  ------            --------------  ----- \n",
      " 0   Location          614 non-null    object\n",
      " 1   Year              614 non-null    int64 \n",
      " 2   Total Passengers  614 non-null    int64 \n",
      "dtypes: int64(2), object(1)\n",
      "memory usage: 14.5+ KB\n"
     ]
    }
   ],
   "source": [
    "dublin_df.info()"
   ]
  },
  {
   "cell_type": "code",
   "execution_count": 10,
   "id": "ff48c73c",
   "metadata": {},
   "outputs": [
    {
     "name": "stdout",
     "output_type": "stream",
     "text": [
      "<class 'pandas.core.frame.DataFrame'>\n",
      "RangeIndex: 195 entries, 0 to 194\n",
      "Data columns (total 3 columns):\n",
      " #   Column            Non-Null Count  Dtype \n",
      "---  ------            --------------  ----- \n",
      " 0   Location          195 non-null    object\n",
      " 1   Year              195 non-null    int64 \n",
      " 2   Total Passengers  195 non-null    int64 \n",
      "dtypes: int64(2), object(1)\n",
      "memory usage: 4.7+ KB\n"
     ]
    }
   ],
   "source": [
    "basel_df.info()"
   ]
  },
  {
   "cell_type": "code",
   "execution_count": 11,
   "id": "fe6544a7",
   "metadata": {},
   "outputs": [
    {
     "data": {
      "text/plain": [
       "((614, 3), (195, 3))"
      ]
     },
     "execution_count": 11,
     "metadata": {},
     "output_type": "execute_result"
    }
   ],
   "source": [
    "dublin_df.shape, basel_df.shape"
   ]
  },
  {
   "cell_type": "code",
   "execution_count": 12,
   "id": "4c0be823",
   "metadata": {},
   "outputs": [
    {
     "name": "stdout",
     "output_type": "stream",
     "text": [
      "              Year  Total Passengers\n",
      "count   614.000000      6.140000e+02\n",
      "mean   2020.416938      1.971559e+06\n",
      "std       2.003775      3.726350e+06\n",
      "min    2014.000000      1.972700e+04\n",
      "25%    2019.000000      2.255315e+05\n",
      "50%    2021.000000      4.225905e+05\n",
      "75%    2022.000000      5.035115e+05\n",
      "max    2023.000000      1.324011e+07\n"
     ]
    }
   ],
   "source": [
    "# Summary statistics\n",
    "summary_stats = dublin_df.describe()\n",
    "print(summary_stats)"
   ]
  },
  {
   "cell_type": "code",
   "execution_count": 13,
   "id": "e1c22d2f",
   "metadata": {},
   "outputs": [
    {
     "name": "stdout",
     "output_type": "stream",
     "text": [
      "              Year  Total Passengers\n",
      "count   195.000000      1.950000e+02\n",
      "mean   2021.461538      1.805969e+06\n",
      "std       1.089929      3.928617e+05\n",
      "min    2020.000000      5.720000e+05\n",
      "25%    2021.000000      1.582500e+06\n",
      "50%    2021.000000      1.792000e+06\n",
      "75%    2022.000000      2.120000e+06\n",
      "max    2023.000000      2.595000e+06\n"
     ]
    }
   ],
   "source": [
    "# Summary statistics\n",
    "summary_stats = basel_df.describe()\n",
    "print(summary_stats)"
   ]
  },
  {
   "cell_type": "code",
   "execution_count": 14,
   "id": "60817013",
   "metadata": {},
   "outputs": [
    {
     "name": "stdout",
     "output_type": "stream",
     "text": [
      "Location            614\n",
      "Year                614\n",
      "Total Passengers    614\n",
      "dtype: int64\n"
     ]
    }
   ],
   "source": [
    "# Count of non-null values in each column\n",
    "non_null_counts = dublin_df.count()\n",
    "print(non_null_counts)\n"
   ]
  },
  {
   "cell_type": "code",
   "execution_count": 15,
   "id": "8f940030",
   "metadata": {},
   "outputs": [
    {
     "name": "stdout",
     "output_type": "stream",
     "text": [
      "Location            195\n",
      "Year                195\n",
      "Total Passengers    195\n",
      "dtype: int64\n"
     ]
    }
   ],
   "source": [
    "# Count of non-null values in each column\n",
    "non_null_counts = basel_df.count()\n",
    "print(non_null_counts)\n"
   ]
  },
  {
   "cell_type": "markdown",
   "id": "a59c8688",
   "metadata": {},
   "source": [
    "### Task I - Describe the rationale and justification for the choice of machine learning models for the above-mentioned scenario. Machine Learning models can be used for Prediction, Classification, Clustering, sentiment analysis, recommendation systems and Time series analysis. You should plan on trying multiple approaches (at least two) with proper selection of hyperparameters using GridSearchCV method. You can choose appropriate features from the datasets and a target feature to answer the question asked in the scenario in the case of supervised learning."
   ]
  },
  {
   "cell_type": "code",
   "execution_count": 18,
   "id": "f9b133a7",
   "metadata": {},
   "outputs": [
    {
     "name": "stdout",
     "output_type": "stream",
     "text": [
      "Mean Squared Error: 6340109516411.204\n",
      "R-squared: 0.3569776218930705\n"
     ]
    }
   ],
   "source": [
    "import pandas as pd\n",
    "from sklearn.model_selection import train_test_split\n",
    "from sklearn.linear_model import LinearRegression\n",
    "from sklearn.metrics import mean_squared_error, r2_score\n",
    "from sklearn.preprocessing import OneHotEncoder\n",
    "from sklearn.compose import ColumnTransformer\n",
    "from sklearn.pipeline import Pipeline\n",
    "\n",
    "# Combine the datasets for modeling\n",
    "combined_df = pd.concat([dublin_df, basel_df], ignore_index=True)\n",
    "\n",
    "# Define features and target\n",
    "X = combined_df[['Year', 'Location']]\n",
    "y = combined_df['Total Passengers']\n",
    "\n",
    "# Split the data into training and testing sets\n",
    "X_train, X_test, y_train, y_test = train_test_split(X, y, test_size=0.2, random_state=42)\n",
    "\n",
    "# Define the preprocessor (for handling categorical variable 'Location')\n",
    "preprocessor = ColumnTransformer(\n",
    "    transformers=[\n",
    "        ('location', OneHotEncoder(), ['Location'])\n",
    "    ],\n",
    "    remainder='passthrough'\n",
    ")\n",
    "\n",
    "# Define the pipeline with the preprocessor and linear regression model\n",
    "model = Pipeline(steps=[\n",
    "    ('preprocessor', preprocessor),\n",
    "    ('regressor', LinearRegression())\n",
    "])\n",
    "\n",
    "# Fit the model on the training data\n",
    "model.fit(X_train, y_train)\n",
    "\n",
    "# Make predictions on the test set\n",
    "y_pred = model.predict(X_test)\n",
    "\n",
    "# Evaluate the model performance\n",
    "mse = mean_squared_error(y_test, y_pred)\n",
    "r2 = r2_score(y_test, y_pred)\n",
    "\n",
    "# Print the evaluation metrics\n",
    "print(f'Mean Squared Error: {mse}')\n",
    "print(f'R-squared: {r2}')\n"
   ]
  },
  {
   "cell_type": "code",
   "execution_count": 19,
   "id": "87f98012",
   "metadata": {},
   "outputs": [
    {
     "name": "stdout",
     "output_type": "stream",
     "text": [
      "Mean Squared Error: 3856481856721.5728\n",
      "R-squared: 0.6088704574871419\n"
     ]
    }
   ],
   "source": [
    "import pandas as pd\n",
    "from sklearn.model_selection import train_test_split\n",
    "from sklearn.ensemble import RandomForestRegressor\n",
    "from sklearn.metrics import mean_squared_error, r2_score\n",
    "from sklearn.preprocessing import OneHotEncoder\n",
    "from sklearn.compose import ColumnTransformer\n",
    "from sklearn.pipeline import Pipeline\n",
    "\n",
    "\n",
    "# Combine the datasets for modeling\n",
    "combined_df = pd.concat([dublin_df, basel_df], ignore_index=True)\n",
    "\n",
    "# Define features and target\n",
    "X = combined_df[['Year', 'Location']]\n",
    "y = combined_df['Total Passengers']\n",
    "\n",
    "# Split the data into training and testing sets\n",
    "X_train, X_test, y_train, y_test = train_test_split(X, y, test_size=0.2, random_state=42)\n",
    "\n",
    "# Define the preprocessor (for handling categorical variable 'Location')\n",
    "preprocessor = ColumnTransformer(\n",
    "    transformers=[\n",
    "        ('location', OneHotEncoder(), ['Location'])\n",
    "    ],\n",
    "    remainder='passthrough'\n",
    ")\n",
    "\n",
    "# Define the pipeline with the preprocessor and RandomForestRegressor\n",
    "model = Pipeline(steps=[\n",
    "    ('preprocessor', preprocessor),\n",
    "    ('regressor', RandomForestRegressor(random_state=42))\n",
    "])\n",
    "\n",
    "# Fit the model on the training data\n",
    "model.fit(X_train, y_train)\n",
    "\n",
    "# Make predictions on the test set\n",
    "y_pred = model.predict(X_test)\n",
    "\n",
    "# Evaluate the model performance\n",
    "mse = mean_squared_error(y_test, y_pred)\n",
    "r2 = r2_score(y_test, y_pred)\n",
    "\n",
    "# Print the evaluation metrics\n",
    "print(f'Mean Squared Error: {mse}')\n",
    "print(f'R-squared: {r2}')\n"
   ]
  },
  {
   "cell_type": "markdown",
   "id": "a02bf613",
   "metadata": {},
   "source": [
    "### Task II - Collect and develop a dataset based on the transport topic related to Ireland as well as other parts of the world. Perform a sentimental analysis for an appropriate transport topic (e.g., public transport, freight movement etc…) for producers and consumers point of view in Ireland."
   ]
  },
  {
   "cell_type": "code",
   "execution_count": 20,
   "id": "52e5e04b",
   "metadata": {},
   "outputs": [
    {
     "name": "stdout",
     "output_type": "stream",
     "text": [
      "Requirement already satisfied: tabulate in c:\\users\\bruno\\anaconda3\\lib\\site-packages (0.8.10)\n"
     ]
    }
   ],
   "source": [
    "! pip install tabulate"
   ]
  },
  {
   "cell_type": "code",
   "execution_count": 21,
   "id": "55b1fcb5",
   "metadata": {},
   "outputs": [
    {
     "name": "stdout",
     "output_type": "stream",
     "text": [
      "+-----------------+-------------------------------------------------------------------------------------------------------------------------------------------------------------------------------------------------------------------------------------------------------------------------------------------------------------------------------------------------------------------------------------------------------------------------------------------------------------------------------------------------------------------------------------------------------------------------------------------------------------------------------------------------------------------------------------------------------------------------------------------------------------------------------------------------------------------------------------------------------------------------------------------------------------------------------------------------------------------------------------------------------------------------------------------------------------------------------------------------------------------------------------------------------------------------------------------------------------------------------------------------------------------------------------------------------------------------------------------------------------------------------------------------------------------------+-------------------+-------------------+\n",
      "|   Comment Order | Comment                                                                                                                                                                                                                                                                                                                                                                                                                                                                                                                                                                                                                                                                                                                                                                                                                                                                                                                                                                                                                                                                                                                                                                                                                                                                                                                                                                                                                 |   Sentiment Score | Sentiment Label   |\n",
      "+=================+=========================================================================================================================================================================================================================================================================================================================================================================================================================================================================================================================================================================================================================================================================================================================================================================================================================================================================================================================================================================================================================================================================================================================================================================================================================================================================================================================================================================================================================+===================+===================+\n",
      "|               1 | We need a proper transport police for the luas and trains that take absolutely no shit. Same for the gardai. The judiciary system needs to be changed to give gardai the power to use force on public disorder offenders and harsh sentences for any violent crime. No more suspended sentences. Until that happens all this will continue.                                                                                                                                                                                                                                                                                                                                                                                                                                                                                                                                                                                                                                                                                                                                                                                                                                                                                                                                                                                                                                                                             |       -0.164286   | Negative          |\n",
      "+-----------------+-------------------------------------------------------------------------------------------------------------------------------------------------------------------------------------------------------------------------------------------------------------------------------------------------------------------------------------------------------------------------------------------------------------------------------------------------------------------------------------------------------------------------------------------------------------------------------------------------------------------------------------------------------------------------------------------------------------------------------------------------------------------------------------------------------------------------------------------------------------------------------------------------------------------------------------------------------------------------------------------------------------------------------------------------------------------------------------------------------------------------------------------------------------------------------------------------------------------------------------------------------------------------------------------------------------------------------------------------------------------------------------------------------------------------+-------------------+-------------------+\n",
      "|               2 | > and feel for all the immigrants that have to put up with shit like this on a daily basis.                                                                                                                                                                                                                                                                                                                                                                                                                                                                                                                                                                                                                                                                                                                                                                                                                                                                                                                                                                                                                                                                                                                                                                                                                                                                                                                             |        0.00582707 | Positive          |\n",
      "|                 |                                                                                                                                                                                                                                                                                                                                                                                                                                                                                                                                                                                                                                                                                                                                                                                                                                                                                                                                                                                                                                                                                                                                                                                                                                                                                                                                                                                                                         |                   |                   |\n",
      "|                 |                                                                                                                                                                                                                                                                                                                                                                                                                                                                                                                                                                                                                                                                                                                                                                                                                                                                                                                                                                                                                                                                                                                                                                                                                                                                                                                                                                                                                         |                   |                   |\n",
      "|                 | What happened to that woman was wrong, but the fact is it shouldn't matter if she's an immigrant or not this shouldn't be happening to anyone, foreign or Irish.                                                                                                                                                                                                                                                                                                                                                                                                                                                                                                                                                                                                                                                                                                                                                                                                                                                                                                                                                                                                                                                                                                                                                                                                                                                        |                   |                   |\n",
      "|                 |                                                                                                                                                                                                                                                                                                                                                                                                                                                                                                                                                                                                                                                                                                                                                                                                                                                                                                                                                                                                                                                                                                                                                                                                                                                                                                                                                                                                                         |                   |                   |\n",
      "|                 | As a woman I'm probably coming at this from a different angle than you, but women are treated to appalling behaviour all the time, by men in this country. I've been sexually assaulted on the bus by a Chinese man, sexually assaulted in vicar street by a Nigerian man, sexually assaulted in the doorway to the shop i worked at by an irish homeless man, raped by a man from tullamore when I was in college and been physically assaulted by a Traveller man because I tripped over a bag he threw on the ground in front of me on Grafton street and when I said ffs he started raring at me and punched me. None of these I provoked, I wasn't drunk, or wearing revealing clothes, I also had a right to say ffs to someone swinging a bag and dropping it in front of me that made me trip over it and fall to the ground, yet they all happened. For me it's not about feeling sorry for immigrants coming here and experiencing this, no one should experience this behaviour from anyone, irish or otherwise and the only way it'll stop is with more Gardaí, and security on our streets.                                                                                                                                                                                                                                                                                                                |                   |                   |\n",
      "+-----------------+-------------------------------------------------------------------------------------------------------------------------------------------------------------------------------------------------------------------------------------------------------------------------------------------------------------------------------------------------------------------------------------------------------------------------------------------------------------------------------------------------------------------------------------------------------------------------------------------------------------------------------------------------------------------------------------------------------------------------------------------------------------------------------------------------------------------------------------------------------------------------------------------------------------------------------------------------------------------------------------------------------------------------------------------------------------------------------------------------------------------------------------------------------------------------------------------------------------------------------------------------------------------------------------------------------------------------------------------------------------------------------------------------------------------------+-------------------+-------------------+\n",
      "|               3 | No good news story ever starts with “So I was on the redline LUAS”…. Honestly it is a moving hangout for the dregs of Dublin society.                                                                                                                                                                                                                                                                                                                                                                                                                                                                                                                                                                                                                                                                                                                                                                                                                                                                                                                                                                                                                                                                                                                                                                                                                                                                                   |        0.125      | Positive          |\n",
      "+-----------------+-------------------------------------------------------------------------------------------------------------------------------------------------------------------------------------------------------------------------------------------------------------------------------------------------------------------------------------------------------------------------------------------------------------------------------------------------------------------------------------------------------------------------------------------------------------------------------------------------------------------------------------------------------------------------------------------------------------------------------------------------------------------------------------------------------------------------------------------------------------------------------------------------------------------------------------------------------------------------------------------------------------------------------------------------------------------------------------------------------------------------------------------------------------------------------------------------------------------------------------------------------------------------------------------------------------------------------------------------------------------------------------------------------------------------+-------------------+-------------------+\n",
      "|               4 | Red line seems to be worst around that jervis/abbey st area                                                                                                                                                                                                                                                                                                                                                                                                                                                                                                                                                                                                                                                                                                                                                                                                                                                                                                                                                                                                                                                                                                                                                                                                                                                                                                                                                             |       -0.5        | Negative          |\n",
      "+-----------------+-------------------------------------------------------------------------------------------------------------------------------------------------------------------------------------------------------------------------------------------------------------------------------------------------------------------------------------------------------------------------------------------------------------------------------------------------------------------------------------------------------------------------------------------------------------------------------------------------------------------------------------------------------------------------------------------------------------------------------------------------------------------------------------------------------------------------------------------------------------------------------------------------------------------------------------------------------------------------------------------------------------------------------------------------------------------------------------------------------------------------------------------------------------------------------------------------------------------------------------------------------------------------------------------------------------------------------------------------------------------------------------------------------------------------+-------------------+-------------------+\n",
      "|               5 | The people in this town are just the worst                                                                                                                                                                                                                                                                                                                                                                                                                                                                                                                                                                                                                                                                                                                                                                                                                                                                                                                                                                                                                                                                                                                                                                                                                                                                                                                                                                              |       -1          | Negative          |\n",
      "+-----------------+-------------------------------------------------------------------------------------------------------------------------------------------------------------------------------------------------------------------------------------------------------------------------------------------------------------------------------------------------------------------------------------------------------------------------------------------------------------------------------------------------------------------------------------------------------------------------------------------------------------------------------------------------------------------------------------------------------------------------------------------------------------------------------------------------------------------------------------------------------------------------------------------------------------------------------------------------------------------------------------------------------------------------------------------------------------------------------------------------------------------------------------------------------------------------------------------------------------------------------------------------------------------------------------------------------------------------------------------------------------------------------------------------------------------------+-------------------+-------------------+\n",
      "|               6 | Transport police is one thing and I agree we need a dedicated Transport Corp like they have in other countries (they even have different uniforms too) but they aren’t going to get on a dangerously packed luas. I’ve seen it all on the Red “Blood” line from drug taking to fisty cuffs to an actual mugging from some little scrote who snatched a handbag from the platform when the doors opened and the tram moved on before anyone could do anything- to aggressive begging on the luas too. I’ve seen it all and to be honest it can be an intimidating experience for a 6’2” 20st lad like myself so you can imagine what it’s like for a foreigner - it’s shameful and embarrassing but it’s rampant too. And especially around the Jervis to Connolly  stops there are a number of methadone treatment centres around there and these junkies use the luas for free (they get free travel apparently as it’s for them to get to their clinics so I’ve been told by reliable sources) so there is fuck all accountability or risk for them - they don’t care and don’t give a shit - the courts know it too giving them €80 fines and giving them 10-12 months to pay the damn thing ( that’s a story for another time) and it’s risky intervening too as you become the subject of their abuse and they are so blatant and menacing they’d have no qualms about throwing a dig in front of everyone either. |       -0.108073   | Negative          |\n",
      "+-----------------+-------------------------------------------------------------------------------------------------------------------------------------------------------------------------------------------------------------------------------------------------------------------------------------------------------------------------------------------------------------------------------------------------------------------------------------------------------------------------------------------------------------------------------------------------------------------------------------------------------------------------------------------------------------------------------------------------------------------------------------------------------------------------------------------------------------------------------------------------------------------------------------------------------------------------------------------------------------------------------------------------------------------------------------------------------------------------------------------------------------------------------------------------------------------------------------------------------------------------------------------------------------------------------------------------------------------------------------------------------------------------------------------------------------------------+-------------------+-------------------+\n",
      "|               7 | Yes, we need a proper transport police.  But I think what we need more is for individuals to see it and call it out.  Get involved if it’s safe to do so.  If you are trained then even better.                                                                                                                                                                                                                                                                                                                                                                                                                                                                                                                                                                                                                                                                                                                                                                                                                                                                                                                                                                                                                                                                                                                                                                                                                         |        0.139063   | Positive          |\n",
      "|                 |                                                                                                                                                                                                                                                                                                                                                                                                                                                                                                                                                                                                                                                                                                                                                                                                                                                                                                                                                                                                                                                                                                                                                                                                                                                                                                                                                                                                                         |                   |                   |\n",
      "|                 | As a society these fuckers need to know WE won’t stand for it.  It’s risky, I know.  No one wants to bother, take the risk, I do understand.  Do what you can but do something.                                                                                                                                                                                                                                                                                                                                                                                                                                                                                                                                                                                                                                                                                                                                                                                                                                                                                                                                                                                                                                                                                                                                                                                                                                         |                   |                   |\n",
      "|                 |                                                                                                                                                                                                                                                                                                                                                                                                                                                                                                                                                                                                                                                                                                                                                                                                                                                                                                                                                                                                                                                                                                                                                                                                                                                                                                                                                                                                                         |                   |                   |\n",
      "|                 | That goes for these little scrotes as well.  I don’t care if they are under age.  I’m not asking for ID if I’m getting mugged.                                                                                                                                                                                                                                                                                                                                                                                                                                                                                                                                                                                                                                                                                                                                                                                                                                                                                                                                                                                                                                                                                                                                                                                                                                                                                          |                   |                   |\n",
      "|                 |                                                                                                                                                                                                                                                                                                                                                                                                                                                                                                                                                                                                                                                                                                                                                                                                                                                                                                                                                                                                                                                                                                                                                                                                                                                                                                                                                                                                                         |                   |                   |\n",
      "|                 | No excuses, we let this shit happen.  We allow this shit to happen in our neighbourhood where our kids play.  We allow this shit.💩                                                                                                                                                                                                                                                                                                                                                                                                                                                                                                                                                                                                                                                                                                                                                                                                                                                                                                                                                                                                                                                                                                                                                                                                                                                                                     |                   |                   |\n",
      "+-----------------+-------------------------------------------------------------------------------------------------------------------------------------------------------------------------------------------------------------------------------------------------------------------------------------------------------------------------------------------------------------------------------------------------------------------------------------------------------------------------------------------------------------------------------------------------------------------------------------------------------------------------------------------------------------------------------------------------------------------------------------------------------------------------------------------------------------------------------------------------------------------------------------------------------------------------------------------------------------------------------------------------------------------------------------------------------------------------------------------------------------------------------------------------------------------------------------------------------------------------------------------------------------------------------------------------------------------------------------------------------------------------------------------------------------------------+-------------------+-------------------+\n",
      "|               8 | [deleted]                                                                                                                                                                                                                                                                                                                                                                                                                                                                                                                                                                                                                                                                                                                                                                                                                                                                                                                                                                                                                                                                                                                                                                                                                                                                                                                                                                                                               |        0          | Neutral           |\n",
      "+-----------------+-------------------------------------------------------------------------------------------------------------------------------------------------------------------------------------------------------------------------------------------------------------------------------------------------------------------------------------------------------------------------------------------------------------------------------------------------------------------------------------------------------------------------------------------------------------------------------------------------------------------------------------------------------------------------------------------------------------------------------------------------------------------------------------------------------------------------------------------------------------------------------------------------------------------------------------------------------------------------------------------------------------------------------------------------------------------------------------------------------------------------------------------------------------------------------------------------------------------------------------------------------------------------------------------------------------------------------------------------------------------------------------------------------------------------+-------------------+-------------------+\n",
      "|               9 | We're losing people in the Garda force as it is. We aren't in a position to put together a transport force, regardless of the need for one.                                                                                                                                                                                                                                                                                                                                                                                                                                                                                                                                                                                                                                                                                                                                                                                                                                                                                                                                                                                                                                                                                                                                                                                                                                                                             |        0          | Neutral           |\n",
      "+-----------------+-------------------------------------------------------------------------------------------------------------------------------------------------------------------------------------------------------------------------------------------------------------------------------------------------------------------------------------------------------------------------------------------------------------------------------------------------------------------------------------------------------------------------------------------------------------------------------------------------------------------------------------------------------------------------------------------------------------------------------------------------------------------------------------------------------------------------------------------------------------------------------------------------------------------------------------------------------------------------------------------------------------------------------------------------------------------------------------------------------------------------------------------------------------------------------------------------------------------------------------------------------------------------------------------------------------------------------------------------------------------------------------------------------------------------+-------------------+-------------------+\n",
      "|              10 | They have upped rail security so much. I get the luas at that time the opposite direction but there never any security because they don't expect these sort of this at that hour. Also the luas is too packed to have security taking up space.                                                                                                                                                                                                                                                                                                                                                                                                                                                                                                                                                                                                                                                                                                                                                                                                                                                                                                                                                                                                                                                                                                                                                                         |        0.1        | Positive          |\n",
      "|                 |                                                                                                                                                                                                                                                                                                                                                                                                                                                                                                                                                                                                                                                                                                                                                                                                                                                                                                                                                                                                                                                                                                                                                                                                                                                                                                                                                                                                                         |                   |                   |\n",
      "|                 | There's ways around it they just choose to ignore it                                                                                                                                                                                                                                                                                                                                                                                                                                                                                                                                                                                                                                                                                                                                                                                                                                                                                                                                                                                                                                                                                                                                                                                                                                                                                                                                                                    |                   |                   |\n",
      "+-----------------+-------------------------------------------------------------------------------------------------------------------------------------------------------------------------------------------------------------------------------------------------------------------------------------------------------------------------------------------------------------------------------------------------------------------------------------------------------------------------------------------------------------------------------------------------------------------------------------------------------------------------------------------------------------------------------------------------------------------------------------------------------------------------------------------------------------------------------------------------------------------------------------------------------------------------------------------------------------------------------------------------------------------------------------------------------------------------------------------------------------------------------------------------------------------------------------------------------------------------------------------------------------------------------------------------------------------------------------------------------------------------------------------------------------------------+-------------------+-------------------+\n",
      "|              11 | Why though - I was in Norway a couple of months ago and there's no need for transport police on all the trams and trains - people are just sound to each other.                                                                                                                                                                                                                                                                                                                                                                                                                                                                                                                                                                                                                                                                                                                                                                                                                                                                                                                                                                                                                                                                                                                                                                                                                                                         |        0.24375    | Positive          |\n",
      "|                 | Is it a socioeconomic thing? Cultural? The drink?                                                                                                                                                                                                                                                                                                                                                                                                                                                                                                                                                                                                                                                                                                                                                                                                                                                                                                                                                                                                                                                                                                                                                                                                                                                                                                                                                                       |                   |                   |\n",
      "|                 | Why can't we have nice things??                                                                                                                                                                                                                                                                                                                                                                                                                                                                                                                                                                                                                                                                                                                                                                                                                                                                                                                                                                                                                                                                                                                                                                                                                                                                                                                                                                                         |                   |                   |\n",
      "+-----------------+-------------------------------------------------------------------------------------------------------------------------------------------------------------------------------------------------------------------------------------------------------------------------------------------------------------------------------------------------------------------------------------------------------------------------------------------------------------------------------------------------------------------------------------------------------------------------------------------------------------------------------------------------------------------------------------------------------------------------------------------------------------------------------------------------------------------------------------------------------------------------------------------------------------------------------------------------------------------------------------------------------------------------------------------------------------------------------------------------------------------------------------------------------------------------------------------------------------------------------------------------------------------------------------------------------------------------------------------------------------------------------------------------------------------------+-------------------+-------------------+\n",
      "|              12 | You are indeed absolutely right but in this particular instance he preyed on her because she was in his eyes «  a Chinese bag » which he considered to be less than an Irish woman.                                                                                                                                                                                                                                                                                                                                                                                                                                                                                                                                                                                                                                                                                                                                                                                                                                                                                                                                                                                                                                                                                                                                                                                                                                     |       -0.00803571 | Negative          |\n",
      "|                 |                                                                                                                                                                                                                                                                                                                                                                                                                                                                                                                                                                                                                                                                                                                                                                                                                                                                                                                                                                                                                                                                                                                                                                                                                                                                                                                                                                                                                         |                   |                   |\n",
      "|                 | But I’m genuinely and sincerely sorry for all the assaults and abuse you have suffered in your life, im not sure I would have the strength to get through all that.                                                                                                                                                                                                                                                                                                                                                                                                                                                                                                                                                                                                                                                                                                                                                                                                                                                                                                                                                                                                                                                                                                                                                                                                                                                     |                   |                   |\n",
      "+-----------------+-------------------------------------------------------------------------------------------------------------------------------------------------------------------------------------------------------------------------------------------------------------------------------------------------------------------------------------------------------------------------------------------------------------------------------------------------------------------------------------------------------------------------------------------------------------------------------------------------------------------------------------------------------------------------------------------------------------------------------------------------------------------------------------------------------------------------------------------------------------------------------------------------------------------------------------------------------------------------------------------------------------------------------------------------------------------------------------------------------------------------------------------------------------------------------------------------------------------------------------------------------------------------------------------------------------------------------------------------------------------------------------------------------------------------+-------------------+-------------------+\n",
      "|              13 | omg im so sorry all that happened to you :( it really sucks being a woman, and things just get worse and worse :( we need to be very careful because some men really hate women and want to hurt us                                                                                                                                                                                                                                                                                                                                                                                                                                                                                                                                                                                                                                                                                                                                                                                                                                                                                                                                                                                                                                                                                                                                                                                                                     |       -0.50375    | Negative          |\n",
      "+-----------------+-------------------------------------------------------------------------------------------------------------------------------------------------------------------------------------------------------------------------------------------------------------------------------------------------------------------------------------------------------------------------------------------------------------------------------------------------------------------------------------------------------------------------------------------------------------------------------------------------------------------------------------------------------------------------------------------------------------------------------------------------------------------------------------------------------------------------------------------------------------------------------------------------------------------------------------------------------------------------------------------------------------------------------------------------------------------------------------------------------------------------------------------------------------------------------------------------------------------------------------------------------------------------------------------------------------------------------------------------------------------------------------------------------------------------+-------------------+-------------------+\n",
      "|              14 | That's a mad story, very specific about specific ethnic groups too? How do you know it was a \"Traveller man\" on grafton street?                                                                                                                                                                                                                                                                                                                                                                                                                                                                                                                                                                                                                                                                                                                                                                                                                                                                                                                                                                                                                                                                                                                                                                                                                                                                                         |       -0.208333   | Negative          |\n",
      "+-----------------+-------------------------------------------------------------------------------------------------------------------------------------------------------------------------------------------------------------------------------------------------------------------------------------------------------------------------------------------------------------------------------------------------------------------------------------------------------------------------------------------------------------------------------------------------------------------------------------------------------------------------------------------------------------------------------------------------------------------------------------------------------------------------------------------------------------------------------------------------------------------------------------------------------------------------------------------------------------------------------------------------------------------------------------------------------------------------------------------------------------------------------------------------------------------------------------------------------------------------------------------------------------------------------------------------------------------------------------------------------------------------------------------------------------------------+-------------------+-------------------+\n",
      "|              15 | You've clearly not been to Saggart.                                                                                                                                                                                                                                                                                                                                                                                                                                                                                                                                                                                                                                                                                                                                                                                                                                                                                                                                                                                                                                                                                                                                                                                                                                                                                                                                                                                     |       -0.05       | Negative          |\n",
      "+-----------------+-------------------------------------------------------------------------------------------------------------------------------------------------------------------------------------------------------------------------------------------------------------------------------------------------------------------------------------------------------------------------------------------------------------------------------------------------------------------------------------------------------------------------------------------------------------------------------------------------------------------------------------------------------------------------------------------------------------------------------------------------------------------------------------------------------------------------------------------------------------------------------------------------------------------------------------------------------------------------------------------------------------------------------------------------------------------------------------------------------------------------------------------------------------------------------------------------------------------------------------------------------------------------------------------------------------------------------------------------------------------------------------------------------------------------+-------------------+-------------------+\n",
      "|              16 | But but but , theyre from broken homes and hard hard upbringings                                                                                                                                                                                                                                                                                                                                                                                                                                                                                                                                                                                                                                                                                                                                                                                                                                                                                                                                                                                                                                                                                                                                                                                                                                                                                                                                                        |       -0.327778   | Negative          |\n",
      "+-----------------+-------------------------------------------------------------------------------------------------------------------------------------------------------------------------------------------------------------------------------------------------------------------------------------------------------------------------------------------------------------------------------------------------------------------------------------------------------------------------------------------------------------------------------------------------------------------------------------------------------------------------------------------------------------------------------------------------------------------------------------------------------------------------------------------------------------------------------------------------------------------------------------------------------------------------------------------------------------------------------------------------------------------------------------------------------------------------------------------------------------------------------------------------------------------------------------------------------------------------------------------------------------------------------------------------------------------------------------------------------------------------------------------------------------------------+-------------------+-------------------+\n",
      "|              17 | They are just \"concerned families\"                                                                                                                                                                                                                                                                                                                                                                                                                                                                                                                                                                                                                                                                                                                                                                                                                                                                                                                                                                                                                                                                                                                                                                                                                                                                                                                                                                                      |        0          | Neutral           |\n",
      "+-----------------+-------------------------------------------------------------------------------------------------------------------------------------------------------------------------------------------------------------------------------------------------------------------------------------------------------------------------------------------------------------------------------------------------------------------------------------------------------------------------------------------------------------------------------------------------------------------------------------------------------------------------------------------------------------------------------------------------------------------------------------------------------------------------------------------------------------------------------------------------------------------------------------------------------------------------------------------------------------------------------------------------------------------------------------------------------------------------------------------------------------------------------------------------------------------------------------------------------------------------------------------------------------------------------------------------------------------------------------------------------------------------------------------------------------------------+-------------------+-------------------+\n",
      "|              18 | I was willing to physically assault him if he physically assaulted her, he didn’t. So I guess that’s how it works.                                                                                                                                                                                                                                                                                                                                                                                                                                                                                                                                                                                                                                                                                                                                                                                                                                                                                                                                                                                                                                                                                                                                                                                                                                                                                                      |        0.0833333  | Positive          |\n",
      "+-----------------+-------------------------------------------------------------------------------------------------------------------------------------------------------------------------------------------------------------------------------------------------------------------------------------------------------------------------------------------------------------------------------------------------------------------------------------------------------------------------------------------------------------------------------------------------------------------------------------------------------------------------------------------------------------------------------------------------------------------------------------------------------------------------------------------------------------------------------------------------------------------------------------------------------------------------------------------------------------------------------------------------------------------------------------------------------------------------------------------------------------------------------------------------------------------------------------------------------------------------------------------------------------------------------------------------------------------------------------------------------------------------------------------------------------------------+-------------------+-------------------+\n",
      "|              19 | Because unfortunately for Dublin and other parts of Ireland, there are absolute scum in our cities. The majority are nice and sound people, but there is a % that are scumbags. I think the reason is lack of care/funding in certain areas and also an inadequate judiciary and policing system.                                                                                                                                                                                                                                                                                                                                                                                                                                                                                                                                                                                                                                                                                                                                                                                                                                                                                                                                                                                                                                                                                                                       |        0.069898   | Positive          |\n",
      "+-----------------+-------------------------------------------------------------------------------------------------------------------------------------------------------------------------------------------------------------------------------------------------------------------------------------------------------------------------------------------------------------------------------------------------------------------------------------------------------------------------------------------------------------------------------------------------------------------------------------------------------------------------------------------------------------------------------------------------------------------------------------------------------------------------------------------------------------------------------------------------------------------------------------------------------------------------------------------------------------------------------------------------------------------------------------------------------------------------------------------------------------------------------------------------------------------------------------------------------------------------------------------------------------------------------------------------------------------------------------------------------------------------------------------------------------------------+-------------------+-------------------+\n",
      "|              20 | I'm not belittling what happened to this woman or that it was racially motivated, it was an unpleasant experience that she was oblivious to, thankfully.                                                                                                                                                                                                                                                                                                                                                                                                                                                                                                                                                                                                                                                                                                                                                                                                                                                                                                                                                                                                                                                                                                                                                                                                                                                                |       -0.175      | Negative          |\n",
      "|                 |                                                                                                                                                                                                                                                                                                                                                                                                                                                                                                                                                                                                                                                                                                                                                                                                                                                                                                                                                                                                                                                                                                                                                                                                                                                                                                                                                                                                                         |                   |                   |\n",
      "|                 | I get you not wanting to say anything because it's scary to speak up, knowing full well nobody will have your back should they jump on you. But I do hope you reported this to luas, and going forward anytime any women is in danger however small that not only you, but any man or indeed women, or they /them reading this, if you don't speak up we understand but please please report it. Because if something does happen then it's not just our word against the perpetrator.                                                                                                                                                                                                                                                                                                                                                                                                                                                                                                                                                                                                                                                                                                                                                                                                                                                                                                                                  |                   |                   |\n",
      "+-----------------+-------------------------------------------------------------------------------------------------------------------------------------------------------------------------------------------------------------------------------------------------------------------------------------------------------------------------------------------------------------------------------------------------------------------------------------------------------------------------------------------------------------------------------------------------------------------------------------------------------------------------------------------------------------------------------------------------------------------------------------------------------------------------------------------------------------------------------------------------------------------------------------------------------------------------------------------------------------------------------------------------------------------------------------------------------------------------------------------------------------------------------------------------------------------------------------------------------------------------------------------------------------------------------------------------------------------------------------------------------------------------------------------------------------------------+-------------------+-------------------+\n",
      "|              21 | It's most likely not that he considered her less than, he would have had a name for anyone standing in that spot at that time. They carry on like that because they get away with it. They will target anyone.                                                                                                                                                                                                                                                                                                                                                                                                                                                                                                                                                                                                                                                                                                                                                                                                                                                                                                                                                                                                                                                                                                                                                                                                          |        0.111111   | Positive          |\n",
      "+-----------------+-------------------------------------------------------------------------------------------------------------------------------------------------------------------------------------------------------------------------------------------------------------------------------------------------------------------------------------------------------------------------------------------------------------------------------------------------------------------------------------------------------------------------------------------------------------------------------------------------------------------------------------------------------------------------------------------------------------------------------------------------------------------------------------------------------------------------------------------------------------------------------------------------------------------------------------------------------------------------------------------------------------------------------------------------------------------------------------------------------------------------------------------------------------------------------------------------------------------------------------------------------------------------------------------------------------------------------------------------------------------------------------------------------------------------+-------------------+-------------------+\n",
      "|              22 | Thank you. Tbh it's always shocked me how random these things where and in crowded places! The bus was full of people, vicar street was full of people, grafton street is a busy shopping street on a Saturday which is when that happened, I made eye contact with a woman as she passed by as I was pushed up against the door being assaulted yet she kept walking! I'll never forget her face, the Gardaí didn't seem bothered when I told them, I was raped in the bathroom of another students accommodation, he pushed in after me and put his hand over my mouth.                                                                                                                                                                                                                                                                                                                                                                                                                                                                                                                                                                                                                                                                                                                                                                                                                                               |        0.0670168  | Positive          |\n",
      "|                 |                                                                                                                                                                                                                                                                                                                                                                                                                                                                                                                                                                                                                                                                                                                                                                                                                                                                                                                                                                                                                                                                                                                                                                                                                                                                                                                                                                                                                         |                   |                   |\n",
      "|                 | I honestly don't think these happened because of male hatred of women, I think it was opportunistic. I have my own theories as to why certain men done what they did, but none of those theories excuse the behaviour, but all of them had a major impact on me.                                                                                                                                                                                                                                                                                                                                                                                                                                                                                                                                                                                                                                                                                                                                                                                                                                                                                                                                                                                                                                                                                                                                                        |                   |                   |\n",
      "|                 |                                                                                                                                                                                                                                                                                                                                                                                                                                                                                                                                                                                                                                                                                                                                                                                                                                                                                                                                                                                                                                                                                                                                                                                                                                                                                                                                                                                                                         |                   |                   |\n",
      "|                 | 1 in 4 women in Ireland have been sexually assaulted, that's a major statistic and whether that's by an Irish man or otherwise its not good enough, we are failing women in this country on a daily basis, and regardless of nationality no women should ever have to endure any assault or unwanted unprovoked behaviour by any man, ever.                                                                                                                                                                                                                                                                                                                                                                                                                                                                                                                                                                                                                                                                                                                                                                                                                                                                                                                                                                                                                                                                             |                   |                   |\n",
      "+-----------------+-------------------------------------------------------------------------------------------------------------------------------------------------------------------------------------------------------------------------------------------------------------------------------------------------------------------------------------------------------------------------------------------------------------------------------------------------------------------------------------------------------------------------------------------------------------------------------------------------------------------------------------------------------------------------------------------------------------------------------------------------------------------------------------------------------------------------------------------------------------------------------------------------------------------------------------------------------------------------------------------------------------------------------------------------------------------------------------------------------------------------------------------------------------------------------------------------------------------------------------------------------------------------------------------------------------------------------------------------------------------------------------------------------------------------+-------------------+-------------------+\n",
      "|              23 | I was very specific about the Chinese man, the Nigerian man, the irish homeless man and the man from tullamore too, so what are you trying to imply!                                                                                                                                                                                                                                                                                                                                                                                                                                                                                                                                                                                                                                                                                                                                                                                                                                                                                                                                                                                                                                                                                                                                                                                                                                                                    |        0.0196181  | Positive          |\n",
      "|                 |                                                                                                                                                                                                                                                                                                                                                                                                                                                                                                                                                                                                                                                                                                                                                                                                                                                                                                                                                                                                                                                                                                                                                                                                                                                                                                                                                                                                                         |                   |                   |\n",
      "|                 | For the record I grew up around Travellers, he was with his wife and a number of others which I didn't notice when he threw his bag in front of me, I didn't even acknowledge or care tbh what his ethnicity was I was more concerned about him fucking a big bag under my feet and tripping me to the ground with no time to save myself. But when I fell and said ffs, and he started to roar at me, his accent and that of his wife and the others who started shouting at him as they started running down the street with a load of handbags and clothes, while he punched me grabbed the bag I fell over and ran as the security guard from the shop ran a bit after him. BUT NONE OF THAT MATTERS AND DIDN'T NEED TO BE SHARED, but I've shared it because you need to be a dick. The reason why I shared all ethnicities in my post was to show that it's not just scummy Irish junkies that behave inappropriately towards women but hey don't let a little thing like reality get in your way.                                                                                                                                                                                                                                                                                                                                                                                                                |                   |                   |\n",
      "+-----------------+-------------------------------------------------------------------------------------------------------------------------------------------------------------------------------------------------------------------------------------------------------------------------------------------------------------------------------------------------------------------------------------------------------------------------------------------------------------------------------------------------------------------------------------------------------------------------------------------------------------------------------------------------------------------------------------------------------------------------------------------------------------------------------------------------------------------------------------------------------------------------------------------------------------------------------------------------------------------------------------------------------------------------------------------------------------------------------------------------------------------------------------------------------------------------------------------------------------------------------------------------------------------------------------------------------------------------------------------------------------------------------------------------------------------------+-------------------+-------------------+\n",
      "|              24 | Precious angles …                                                                                                                                                                                                                                                                                                                                                                                                                                                                                                                                                                                                                                                                                                                                                                                                                                                                                                                                                                                                                                                                                                                                                                                                                                                                                                                                                                                                       |        0.5        | Positive          |\n",
      "+-----------------+-------------------------------------------------------------------------------------------------------------------------------------------------------------------------------------------------------------------------------------------------------------------------------------------------------------------------------------------------------------------------------------------------------------------------------------------------------------------------------------------------------------------------------------------------------------------------------------------------------------------------------------------------------------------------------------------------------------------------------------------------------------------------------------------------------------------------------------------------------------------------------------------------------------------------------------------------------------------------------------------------------------------------------------------------------------------------------------------------------------------------------------------------------------------------------------------------------------------------------------------------------------------------------------------------------------------------------------------------------------------------------------------------------------------------+-------------------+-------------------+\n",
      "|              25 | Incoherent nonsense, jog on.                                                                                                                                                                                                                                                                                                                                                                                                                                                                                                                                                                                                                                                                                                                                                                                                                                                                                                                                                                                                                                                                                                                                                                                                                                                                                                                                                                                            |       -0.2        | Negative          |\n",
      "+-----------------+-------------------------------------------------------------------------------------------------------------------------------------------------------------------------------------------------------------------------------------------------------------------------------------------------------------------------------------------------------------------------------------------------------------------------------------------------------------------------------------------------------------------------------------------------------------------------------------------------------------------------------------------------------------------------------------------------------------------------------------------------------------------------------------------------------------------------------------------------------------------------------------------------------------------------------------------------------------------------------------------------------------------------------------------------------------------------------------------------------------------------------------------------------------------------------------------------------------------------------------------------------------------------------------------------------------------------------------------------------------------------------------------------------------------------+-------------------+-------------------+\n",
      "|              26 | With precious free appartaments.                                                                                                                                                                                                                                                                                                                                                                                                                                                                                                                                                                                                                                                                                                                                                                                                                                                                                                                                                                                                                                                                                                                                                                                                                                                                                                                                                                                        |        0.45       | Positive          |\n",
      "+-----------------+-------------------------------------------------------------------------------------------------------------------------------------------------------------------------------------------------------------------------------------------------------------------------------------------------------------------------------------------------------------------------------------------------------------------------------------------------------------------------------------------------------------------------------------------------------------------------------------------------------------------------------------------------------------------------------------------------------------------------------------------------------------------------------------------------------------------------------------------------------------------------------------------------------------------------------------------------------------------------------------------------------------------------------------------------------------------------------------------------------------------------------------------------------------------------------------------------------------------------------------------------------------------------------------------------------------------------------------------------------------------------------------------------------------------------+-------------------+-------------------+\n",
      "|              27 | Morning angle                                                                                                                                                                                                                                                                                                                                                                                                                                                                                                                                                                                                                                                                                                                                                                                                                                                                                                                                                                                                                                                                                                                                                                                                                                                                                                                                                                                                           |        0          | Neutral           |\n",
      "+-----------------+-------------------------------------------------------------------------------------------------------------------------------------------------------------------------------------------------------------------------------------------------------------------------------------------------------------------------------------------------------------------------------------------------------------------------------------------------------------------------------------------------------------------------------------------------------------------------------------------------------------------------------------------------------------------------------------------------------------------------------------------------------------------------------------------------------------------------------------------------------------------------------------------------------------------------------------------------------------------------------------------------------------------------------------------------------------------------------------------------------------------------------------------------------------------------------------------------------------------------------------------------------------------------------------------------------------------------------------------------------------------------------------------------------------------------+-------------------+-------------------+\n",
      "|              28 | Awh there we are, your true colours shining though and not in a good way, a man who hates women, who also seems to have been failed by the education system. More to be pitied than anything else. You know after all I've gone through at the hands of men I really should hate your gender, but I don't. Thankfully most men aren't like you and you're facing extinction, especially in our progressive country.                                                                                                                                                                                                                                                                                                                                                                                                                                                                                                                                                                                                                                                                                                                                                                                                                                                                                                                                                                                                     |        0.105227   | Positive          |\n",
      "|                 |                                                                                                                                                                                                                                                                                                                                                                                                                                                                                                                                                                                                                                                                                                                                                                                                                                                                                                                                                                                                                                                                                                                                                                                                                                                                                                                                                                                                                         |                   |                   |\n",
      "|                 |                                                                                                                                                                                                                                                                                                                                                                                                                                                                                                                                                                                                                                                                                                                                                                                                                                                                                                                                                                                                                                                                                                                                                                                                                                                                                                                                                                                                                         |                   |                   |\n",
      "|                 | I know everything I typed there has probably gone over your head due to your issue with the written language. But imagine what you could accomplish is you channelled all that energy you put into hatred into something positive. Just a thought.                                                                                                                                                                                                                                                                                                                                                                                                                                                                                                                                                                                                                                                                                                                                                                                                                                                                                                                                                                                                                                                                                                                                                                      |                   |                   |\n",
      "+-----------------+-------------------------------------------------------------------------------------------------------------------------------------------------------------------------------------------------------------------------------------------------------------------------------------------------------------------------------------------------------------------------------------------------------------------------------------------------------------------------------------------------------------------------------------------------------------------------------------------------------------------------------------------------------------------------------------------------------------------------------------------------------------------------------------------------------------------------------------------------------------------------------------------------------------------------------------------------------------------------------------------------------------------------------------------------------------------------------------------------------------------------------------------------------------------------------------------------------------------------------------------------------------------------------------------------------------------------------------------------------------------------------------------------------------------------+-------------------+-------------------+\n",
      "|              29 | I've no time for pikies making up stories.                                                                                                                                                                                                                                                                                                                                                                                                                                                                                                                                                                                                                                                                                                                                                                                                                                                                                                                                                                                                                                                                                                                                                                                                                                                                                                                                                                              |        0          | Neutral           |\n",
      "+-----------------+-------------------------------------------------------------------------------------------------------------------------------------------------------------------------------------------------------------------------------------------------------------------------------------------------------------------------------------------------------------------------------------------------------------------------------------------------------------------------------------------------------------------------------------------------------------------------------------------------------------------------------------------------------------------------------------------------------------------------------------------------------------------------------------------------------------------------------------------------------------------------------------------------------------------------------------------------------------------------------------------------------------------------------------------------------------------------------------------------------------------------------------------------------------------------------------------------------------------------------------------------------------------------------------------------------------------------------------------------------------------------------------------------------------------------+-------------------+-------------------+\n",
      "|              30 | What a weird response, you do know what that racial slur means?                                                                                                                                                                                                                                                                                                                                                                                                                                                                                                                                                                                                                                                                                                                                                                                                                                                                                                                                                                                                                                                                                                                                                                                                                                                                                                                                                         |        0.253333   | Positive          |\n",
      "|                 |                                                                                                                                                                                                                                                                                                                                                                                                                                                                                                                                                                                                                                                                                                                                                                                                                                                                                                                                                                                                                                                                                                                                                                                                                                                                                                                                                                                                                         |                   |                   |\n",
      "|                 | In one post you're offended I'm able to identify the ethnicity of people and come across as if you're defending them yet use a slur used towards them against someone who you now feel, I think, is one. How very bizarre and immature of you.                                                                                                                                                                                                                                                                                                                                                                                                                                                                                                                                                                                                                                                                                                                                                                                                                                                                                                                                                                                                                                                                                                                                                                          |                   |                   |\n",
      "|                 |                                                                                                                                                                                                                                                                                                                                                                                                                                                                                                                                                                                                                                                                                                                                                                                                                                                                                                                                                                                                                                                                                                                                                                                                                                                                                                                                                                                                                         |                   |                   |\n",
      "|                 | For the record, I'm not offended, ay your slur but neither am I a Traveller. You however are misogynistic and obviously feel the need to be derogatory towards an ethnic minority to feel better about yourself. Again you're more to be pitied than anything else. Jog on.                                                                                                                                                                                                                                                                                                                                                                                                                                                                                                                                                                                                                                                                                                                                                                                                                                                                                                                                                                                                                                                                                                                                             |                   |                   |\n",
      "+-----------------+-------------------------------------------------------------------------------------------------------------------------------------------------------------------------------------------------------------------------------------------------------------------------------------------------------------------------------------------------------------------------------------------------------------------------------------------------------------------------------------------------------------------------------------------------------------------------------------------------------------------------------------------------------------------------------------------------------------------------------------------------------------------------------------------------------------------------------------------------------------------------------------------------------------------------------------------------------------------------------------------------------------------------------------------------------------------------------------------------------------------------------------------------------------------------------------------------------------------------------------------------------------------------------------------------------------------------------------------------------------------------------------------------------------------------+-------------------+-------------------+\n",
      "|              31 | You're a headcase.                                                                                                                                                                                                                                                                                                                                                                                                                                                                                                                                                                                                                                                                                                                                                                                                                                                                                                                                                                                                                                                                                                                                                                                                                                                                                                                                                                                                      |        0          | Neutral           |\n",
      "+-----------------+-------------------------------------------------------------------------------------------------------------------------------------------------------------------------------------------------------------------------------------------------------------------------------------------------------------------------------------------------------------------------------------------------------------------------------------------------------------------------------------------------------------------------------------------------------------------------------------------------------------------------------------------------------------------------------------------------------------------------------------------------------------------------------------------------------------------------------------------------------------------------------------------------------------------------------------------------------------------------------------------------------------------------------------------------------------------------------------------------------------------------------------------------------------------------------------------------------------------------------------------------------------------------------------------------------------------------------------------------------------------------------------------------------------------------+-------------------+-------------------+\n"
     ]
    }
   ],
   "source": [
    "import praw\n",
    "from textblob import TextBlob\n",
    "from tabulate import tabulate  # Import tabulate\n",
    "\n",
    "def analyze_sentiment_for_reddit_url(client_id, client_secret, user_agent, reddit_url):\n",
    "    \"\"\"\n",
    "    Perform sentiment analysis on the comments of a Reddit page.\n",
    "\n",
    "    Parameters:\n",
    "    - client_id: str, Reddit API client ID\n",
    "    - client_secret: str, Reddit API client secret\n",
    "    - user_agent: str, Reddit API user agent\n",
    "    - reddit_url: str, URL of the Reddit page to analyze\n",
    "\n",
    "    Returns:\n",
    "    - sentiment_results: list of dictionaries, each containing sentiment analysis results for a comment\n",
    "    \"\"\"\n",
    "    # Authenticate with the Reddit API\n",
    "    reddit = praw.Reddit(\n",
    "        client_id=client_id,\n",
    "        client_secret=client_secret,\n",
    "        user_agent=user_agent\n",
    "    )\n",
    "\n",
    "    # Extract the submission ID from the Reddit URL\n",
    "    submission_id = reddit_url.split('/')[-3]\n",
    "\n",
    "    # Get the submission (post) using the submission ID\n",
    "    submission = reddit.submission(id=submission_id)\n",
    "\n",
    "    # Collect comments from the submission\n",
    "    comments = submission.comments.list()\n",
    "\n",
    "    # Perform sentiment analysis on each comment using TextBlob\n",
    "    sentiment_results = []\n",
    "    for i, comment in enumerate(comments, start=1):  # Add enumerate to get comment order\n",
    "        # Perform sentiment analysis using TextBlob\n",
    "        analysis = TextBlob(comment.body)\n",
    "\n",
    "        # Classify sentiment label\n",
    "        sentiment_label = \"Positive\" if analysis.sentiment.polarity > 0 else \"Negative\" if analysis.sentiment.polarity < 0 else \"Neutral\"\n",
    "\n",
    "        # Create a dictionary with sentiment analysis results for the comment\n",
    "        sentiment_result = {\n",
    "            \"Comment Order\": i,  # Numeric order of the comment\n",
    "            \"Comment\": comment.body,\n",
    "            \"Sentiment Score\": analysis.sentiment.polarity,\n",
    "            \"Sentiment Label\": sentiment_label,\n",
    "        }\n",
    "\n",
    "        sentiment_results.append(sentiment_result)\n",
    "\n",
    "    return sentiment_results\n",
    "\n",
    "# Example usage\n",
    "client_id = \"Q0sGHW7QlLiArtfsD3Hesw\"\n",
    "client_secret = \"8S_6DzIdMfDdIXTFb6rgvFYczdYoHQ\"\n",
    "user_agent = \"Mozilla/5.0 (Windows NT 10.0; Win64; x64) AppleWebKit/537.36 (KHTML, like Gecko) Chrome/91.0.4472.124 Safari/537.36\"  # Replace with your actual user agent\n",
    "reddit_url = \"https://www.reddit.com/r/Dublin/comments/17s5bj9/luas/\"\n",
    "\n",
    "# Perform sentiment analysis on the comments of the Reddit page\n",
    "sentiment_results = analyze_sentiment_for_reddit_url(client_id, client_secret, user_agent, reddit_url)\n",
    "\n",
    "# Display sentiment analysis results in a table format\n",
    "table_headers = [\"Comment Order\", \"Comment\", \"Sentiment Score\", \"Sentiment Label\"]\n",
    "table_data = [(result[\"Comment Order\"], result[\"Comment\"], result[\"Sentiment Score\"], result[\"Sentiment Label\"]) for result in sentiment_results]\n",
    "\n",
    "print(tabulate(table_data, headers=table_headers, tablefmt=\"grid\"))\n"
   ]
  },
  {
   "cell_type": "code",
   "execution_count": 22,
   "id": "dd528af8",
   "metadata": {},
   "outputs": [
    {
     "data": {
      "image/png": "[encoded data removed]",
      "text/plain": [
       "<Figure size 640x480 with 1 Axes>"
      ]
     },
     "metadata": {},
     "output_type": "display_data"
    }
   ],
   "source": [
    "import praw\n",
    "from textblob import TextBlob\n",
    "import matplotlib.pyplot as plt\n",
    "\n",
    "def analyze_and_visualize_sentiment(client_id, client_secret, user_agent, reddit_url):\n",
    "    \"\"\"\n",
    "    Perform sentiment analysis on the comments of a Reddit page and visualize the results.\n",
    "\n",
    "    Parameters:\n",
    "    - client_id: str, Reddit API client ID\n",
    "    - client_secret: str, Reddit API client secret\n",
    "    - user_agent: str, Reddit API user agent\n",
    "    - reddit_url: str, URL of the Reddit page to analyze\n",
    "    \"\"\"\n",
    "    # Authenticate with the Reddit API\n",
    "    reddit = praw.Reddit(\n",
    "        client_id=client_id,\n",
    "        client_secret=client_secret,\n",
    "        user_agent=user_agent\n",
    "    )\n",
    "\n",
    "    # Extract the submission ID from the Reddit URL\n",
    "    submission_id = reddit_url.split('/')[-3]\n",
    "\n",
    "    # Get the submission (post) using the submission ID\n",
    "    submission = reddit.submission(id=submission_id)\n",
    "\n",
    "    # Collect comments from the submission\n",
    "    comments = submission.comments.list()\n",
    "\n",
    "    # Perform sentiment analysis on each comment using TextBlob\n",
    "    sentiment_results = []\n",
    "    for comment in comments:\n",
    "        # Perform sentiment analysis using TextBlob\n",
    "        analysis = TextBlob(comment.body)\n",
    "\n",
    "        # Classify sentiment label\n",
    "        sentiment_label = \"Positive\" if analysis.sentiment.polarity > 0 else \"Negative\" if analysis.sentiment.polarity < 0 else \"Neutral\"\n",
    "\n",
    "        # Create a dictionary with sentiment analysis results for the comment\n",
    "        sentiment_result = {\n",
    "            \"Comment\": comment.body,\n",
    "            \"Sentiment Score\": analysis.sentiment.polarity,\n",
    "            \"Sentiment Label\": sentiment_label,\n",
    "        }\n",
    "\n",
    "        sentiment_results.append(sentiment_result)\n",
    "\n",
    "    # Visualize sentiment distribution\n",
    "    visualize_sentiment(sentiment_results)\n",
    "\n",
    "def visualize_sentiment(sentiment_results):\n",
    "    \"\"\"\n",
    "    Visualize the sentiment distribution of comments.\n",
    "\n",
    "    Parameters:\n",
    "    - sentiment_results: list of dictionaries, each containing sentiment analysis results for a comment\n",
    "    \"\"\"\n",
    "    # Count the number of comments for each sentiment label\n",
    "    sentiment_counts = {\"Positive\": 0, \"Negative\": 0, \"Neutral\": 0}\n",
    "    for result in sentiment_results:\n",
    "        sentiment_counts[result[\"Sentiment Label\"]] += 1\n",
    "\n",
    "    # Plot the bar chart\n",
    "    labels = list(sentiment_counts.keys())\n",
    "    values = list(sentiment_counts.values())\n",
    "\n",
    "    plt.bar(labels, values, color=['green', 'red', 'blue'])\n",
    "    plt.xlabel('Sentiment Label')\n",
    "    plt.ylabel('Number of Comments')\n",
    "    plt.title('Sentiment Distribution of Comments')\n",
    "    plt.show()\n",
    "\n",
    "# Example usage\n",
    "client_id = \"Q0sGHW7QlLiArtfsD3Hesw\"\n",
    "client_secret = \"8S_6DzIdMfDdIXTFb6rgvFYczdYoHQ\"\n",
    "user_agent = \"Mozilla/5.0 (Windows NT 10.0; Win64; x64) AppleWebKit/537.36 (KHTML, like Gecko) Chrome/91.0.4472.124 Safari/537.36\"  # Replace with your actual user agent\n",
    "reddit_url = \"https://www.reddit.com/r/Dublin/comments/17s5bj9/luas/\"\n",
    "\n",
    "# Perform sentiment analysis and visualize the results\n",
    "analyze_and_visualize_sentiment(client_id, client_secret, user_agent, reddit_url)\n"
   ]
  },
  {
   "cell_type": "markdown",
   "id": "95430034",
   "metadata": {},
   "source": [
    "### Task III - You should train and test for Supervised Learning and other appropriate metrics for unsupervised/ semi-supervised machine learning models that you have chosen. Use cross validation to provide authenticity of the modelling outcomes. You can apply dimensionality reduction methods to prepare the dataset based on your machine learning modelling requirements.\n"
   ]
  },
  {
   "cell_type": "code",
   "execution_count": 23,
   "id": "d4b56fbb",
   "metadata": {},
   "outputs": [
    {
     "name": "stdout",
     "output_type": "stream",
     "text": [
      "Requirement already satisfied: scikit-learn in c:\\users\\bruno\\anaconda3\\lib\\site-packages (1.1.3)\n",
      "Requirement already satisfied: pandas in c:\\users\\bruno\\anaconda3\\lib\\site-packages (1.5.3)\n",
      "Requirement already satisfied: numpy>=1.17.3 in c:\\users\\bruno\\anaconda3\\lib\\site-packages (from scikit-learn) (1.24.3)\n",
      "Requirement already satisfied: scipy>=1.3.2 in c:\\users\\bruno\\anaconda3\\lib\\site-packages (from scikit-learn) (1.10.0)\n",
      "Requirement already satisfied: joblib>=1.0.0 in c:\\users\\bruno\\anaconda3\\lib\\site-packages (from scikit-learn) (1.1.1)\n",
      "Requirement already satisfied: threadpoolctl>=2.0.0 in c:\\users\\bruno\\anaconda3\\lib\\site-packages (from scikit-learn) (2.2.0)\n",
      "Requirement already satisfied: python-dateutil>=2.8.1 in c:\\users\\bruno\\anaconda3\\lib\\site-packages (from pandas) (2.8.2)\n",
      "Requirement already satisfied: pytz>=2020.1 in c:\\users\\bruno\\anaconda3\\lib\\site-packages (from pandas) (2022.7)\n",
      "Requirement already satisfied: six>=1.5 in c:\\users\\bruno\\anaconda3\\lib\\site-packages (from python-dateutil>=2.8.1->pandas) (1.16.0)\n",
      "Note: you may need to restart the kernel to use updated packages.\n"
     ]
    }
   ],
   "source": [
    "pip install scikit-learn pandas\n"
   ]
  },
  {
   "cell_type": "code",
   "execution_count": 24,
   "id": "d187af8c",
   "metadata": {},
   "outputs": [
    {
     "name": "stdout",
     "output_type": "stream",
     "text": [
      "Linear Regression Model:\n",
      "Mean Squared Error: 22091954126454.793\n",
      "R-squared: -1469.442281902498\n",
      "\n",
      "Random Forest Regression Model:\n",
      "Mean Squared Error: 38823929716196.17\n",
      "R-squared: -6582.072283524803\n"
     ]
    }
   ],
   "source": [
    "import pandas as pd\n",
    "from sklearn.model_selection import cross_val_score, train_test_split\n",
    "from sklearn.linear_model import LinearRegression\n",
    "from sklearn.ensemble import RandomForestRegressor\n",
    "from sklearn.metrics import mean_squared_error, r2_score\n",
    "from sklearn.preprocessing import StandardScaler\n",
    "from sklearn.pipeline import make_pipeline\n",
    "\n",
    "def linear_regression_model(dataframe, features, target):\n",
    "    \"\"\"\n",
    "    Train a Linear Regression model using cross-validation.\n",
    "\n",
    "    Parameters:\n",
    "    - dataframe: pandas DataFrame, the dataset\n",
    "    - features: list of str, names of the feature columns\n",
    "    - target: str, name of the target column\n",
    "\n",
    "    Returns:\n",
    "    - mse: float, mean squared error\n",
    "    - r2: float, R-squared score\n",
    "    \"\"\"\n",
    "    X = dataframe[features]\n",
    "    y = dataframe[target]\n",
    "\n",
    "    model = LinearRegression()\n",
    "    scores = cross_val_score(model, X, y, scoring='neg_mean_squared_error', cv=5)\n",
    "\n",
    "    mse = -scores.mean()\n",
    "    r2 = cross_val_score(model, X, y, scoring='r2', cv=5).mean()\n",
    "\n",
    "    return mse, r2\n",
    "\n",
    "def random_forest_model(dataframe, features, target):\n",
    "    \"\"\"\n",
    "    Train a Random Forest Regression model using cross-validation.\n",
    "\n",
    "    Parameters:\n",
    "    - dataframe: pandas DataFrame, the dataset\n",
    "    - features: list of str, names of the feature columns\n",
    "    - target: str, name of the target column\n",
    "\n",
    "    Returns:\n",
    "    - mse: float, mean squared error\n",
    "    - r2: float, R-squared score\n",
    "    \"\"\"\n",
    "    X = dataframe[features]\n",
    "    y = dataframe[target]\n",
    "\n",
    "    model = RandomForestRegressor(n_estimators=100, random_state=42)\n",
    "    scores = cross_val_score(model, X, y, scoring='neg_mean_squared_error', cv=5)\n",
    "\n",
    "    mse = -scores.mean()\n",
    "    r2 = cross_val_score(model, X, y, scoring='r2', cv=5).mean()\n",
    "\n",
    "    return mse, r2\n",
    "\n",
    "# Example usage with a DataFrame named dublin_df\n",
    "features_to_use = ['Year']  # Add more features as needed\n",
    "target_column = 'Total Passengers'\n",
    "\n",
    "linear_regression_mse, linear_regression_r2 = linear_regression_model(dublin_df, features_to_use, target_column)\n",
    "print(\"Linear Regression Model:\")\n",
    "print(\"Mean Squared Error:\", linear_regression_mse)\n",
    "print(\"R-squared:\", linear_regression_r2)\n",
    "\n",
    "random_forest_mse, random_forest_r2 = random_forest_model(dublin_df, features_to_use, target_column)\n",
    "print(\"\\nRandom Forest Regression Model:\")\n",
    "print(\"Mean Squared Error:\", random_forest_mse)\n",
    "print(\"R-squared:\", random_forest_r2)\n"
   ]
  },
  {
   "cell_type": "markdown",
   "id": "2d04cf41",
   "metadata": {},
   "source": [
    "### Task IV - A Table or graphics should be provided to illustrate the similarities and contrast of the Machine Learning modelling outcomes based on the scoring metric used for the analysis of the above-mentioned scenario. Discuss and elaborate your understanding clearly."
   ]
  },
  {
   "cell_type": "code",
   "execution_count": 25,
   "id": "df1fe040",
   "metadata": {},
   "outputs": [
    {
     "data": {
      "image/png": "[encoded data removed]",
      "text/plain": [
       "<Figure size 800x500 with 1 Axes>"
      ]
     },
     "metadata": {},
     "output_type": "display_data"
    }
   ],
   "source": [
    "import matplotlib.pyplot as plt\n",
    "\n",
    "def compare_models_performance(linear_regression_mse, linear_regression_r2, random_forest_mse, random_forest_r2):\n",
    "    \"\"\"\n",
    "    Compare the performance of Linear Regression and Random Forest Regression models using a bar chart.\n",
    "\n",
    "    Parameters:\n",
    "    - linear_regression_mse: float, Mean Squared Error for Linear Regression\n",
    "    - linear_regression_r2: float, R-squared score for Linear Regression\n",
    "    - random_forest_mse: float, Mean Squared Error for Random Forest Regression\n",
    "    - random_forest_r2: float, R-squared score for Random Forest Regression\n",
    "    \"\"\"\n",
    "    # Model names\n",
    "    models = ['Linear Regression', 'Random Forest']\n",
    "\n",
    "    # Model performance metrics\n",
    "    mse_values = [linear_regression_mse, random_forest_mse]\n",
    "    r2_values = [linear_regression_r2, random_forest_r2]\n",
    "\n",
    "    # Plotting\n",
    "    fig, ax = plt.subplots(figsize=(8, 5))\n",
    "    bar_width = 0.35\n",
    "    index = range(len(models))\n",
    "\n",
    "    bar1 = ax.bar(index, mse_values, bar_width, label='Mean Squared Error')\n",
    "    bar2 = ax.bar([i + bar_width for i in index], r2_values, bar_width, label='R-squared')\n",
    "\n",
    "    ax.set_xlabel('Models')\n",
    "    ax.set_ylabel('Performance Metrics')\n",
    "    ax.set_title('Comparison of Linear Regression and Random Forest Regression Models')\n",
    "    ax.set_xticks([i + bar_width / 2 for i in index])\n",
    "    ax.set_xticklabels(models)\n",
    "    ax.legend()\n",
    "\n",
    "    # Display the values on top of the bars\n",
    "    for bar in [bar1, bar2]:\n",
    "        for rect in bar:\n",
    "            height = rect.get_height()\n",
    "            ax.annotate('{}'.format(round(height, 2)),\n",
    "                        xy=(rect.get_x() + rect.get_width() / 2, height),\n",
    "                        xytext=(0, 3),  # 3 points vertical offset\n",
    "                        textcoords=\"offset points\",\n",
    "                        ha='center', va='bottom')\n",
    "\n",
    "    plt.show()\n",
    "\n",
    "# Example usage\n",
    "linear_regression_mse = 22091954126454.793\n",
    "linear_regression_r2 = -1469.442281902498\n",
    "random_forest_mse = 38823929716196.17\n",
    "random_forest_r2 = -6582.072283524803\n",
    "\n",
    "compare_models_performance(linear_regression_mse, linear_regression_r2, random_forest_mse, random_forest_r2)\n"
   ]
  },
  {
   "cell_type": "code",
   "execution_count": 26,
   "id": "9598908a",
   "metadata": {},
   "outputs": [
    {
     "name": "stdout",
     "output_type": "stream",
     "text": [
      "Requirement already satisfied: prettytable in c:\\users\\bruno\\anaconda3\\lib\\site-packages (3.9.0)\n",
      "Requirement already satisfied: wcwidth in c:\\users\\bruno\\anaconda3\\lib\\site-packages (from prettytable) (0.2.5)\n",
      "Note: you may need to restart the kernel to use updated packages.\n"
     ]
    }
   ],
   "source": [
    "pip install prettytable\n"
   ]
  },
  {
   "cell_type": "code",
   "execution_count": 27,
   "id": "149cb296",
   "metadata": {},
   "outputs": [
    {
     "name": "stdout",
     "output_type": "stream",
     "text": [
      "+-------------------+--------------------+-----------+\n",
      "|       Model       | Mean Squared Error | R-squared |\n",
      "+-------------------+--------------------+-----------+\n",
      "| Linear Regression | 22091954126454.79  |  -1469.44 |\n",
      "|   Random Forest   | 38823929716196.17  |  -6582.07 |\n",
      "+-------------------+--------------------+-----------+\n"
     ]
    }
   ],
   "source": [
    "from prettytable import PrettyTable\n",
    "\n",
    "def compare_models_table(linear_regression_mse, linear_regression_r2, random_forest_mse, random_forest_r2):\n",
    "    \"\"\"\n",
    "    Compare the performance of Linear Regression and Random Forest Regression models using a table.\n",
    "\n",
    "    Parameters:\n",
    "    - linear_regression_mse: float, Mean Squared Error for Linear Regression\n",
    "    - linear_regression_r2: float, R-squared score for Linear Regression\n",
    "    - random_forest_mse: float, Mean Squared Error for Random Forest Regression\n",
    "    - random_forest_r2: float, R-squared score for Random Forest Regression\n",
    "    \"\"\"\n",
    "    # Create a PrettyTable\n",
    "    table = PrettyTable()\n",
    "\n",
    "    # Define table columns\n",
    "    table.field_names = [\"Model\", \"Mean Squared Error\", \"R-squared\"]\n",
    "\n",
    "    # Add data to the table\n",
    "    table.add_row([\"Linear Regression\", round(linear_regression_mse, 2), round(linear_regression_r2, 2)])\n",
    "    table.add_row([\"Random Forest\", round(random_forest_mse, 2), round(random_forest_r2, 2)])\n",
    "\n",
    "    # Print the table\n",
    "    print(table)\n",
    "\n",
    "# Example usage\n",
    "linear_regression_mse = 22091954126454.793\n",
    "linear_regression_r2 = -1469.442281902498\n",
    "random_forest_mse = 38823929716196.17\n",
    "random_forest_r2 = -6582.072283524803\n",
    "\n",
    "compare_models_table(linear_regression_mse, linear_regression_r2, random_forest_mse, random_forest_r2)\n"
   ]
  }
 ],
 "metadata": {
  "kernelspec": {
   "display_name": "Python 3 (ipykernel)",
   "language": "python",
   "name": "python3"
  },
  "language_info": {
   "codemirror_mode": {
    "name": "ipython",
    "version": 3
   },
   "file_extension": ".py",
   "mimetype": "text/x-python",
   "name": "python",
   "nbconvert_exporter": "python",
   "pygments_lexer": "ipython3",
   "version": "3.11.4"
  }
 },
 "nbformat": 4,
 "nbformat_minor": 5
}
